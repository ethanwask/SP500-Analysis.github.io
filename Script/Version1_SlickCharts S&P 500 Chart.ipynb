{
 "cells": [
  {
   "cell_type": "code",
   "execution_count": 1,
   "id": "ce65f85c",
   "metadata": {},
   "outputs": [
    {
     "name": "stdout",
     "output_type": "stream",
     "text": [
      "['#', 'Company', 'Symbol', 'Weight', 'Price', 'Chg', '% Chg']\n",
      "['1', 'Apple Inc.', 'AAPL', '6.198244', '140.78', '2.91', '(2.11%)']\n",
      "['2', 'Microsoft Corporation', 'MSFT', '5.383663', '242.44', '2.22', '(0.92%)']\n",
      "['3', 'Amazon.com Inc.', 'AMZN', '2.594969', '97.12', '-0.13', '(-0.13%)']\n",
      "['4', 'Alphabet Inc. Class A', 'GOOGL', '1.760194', '99.52', '1.50', '(1.53%)']\n",
      "['5', 'Berkshire Hathaway Inc. Class B', 'BRK.B', '1.678492', '309.62', '-0.25', '(-0.08%)']\n",
      "['6', 'Alphabet Inc. Class C', 'GOOG', '1.58039', '100.89', '1.61', '(1.62%)']\n",
      "['7', 'Exxon Mobil Corporation', 'XOM', '1.403427', '112.87', '-0.48', '(-0.42%)']\n",
      "['8', 'UnitedHealth Group Incorporated', 'UNH', '1.367224', '485.46', '-1.26', '(-0.26%)']\n",
      "['9', 'NVIDIA Corporation', 'NVDA', '1.336906', '190.66', '12.27', '(6.88%)']\n",
      "['10', 'Johnson & Johnson', 'JNJ', '1.327796', '168.30', '-0.44', '(-0.26%)']\n"
     ]
    }
   ],
   "source": [
    "from bs4 import BeautifulSoup\n",
    "import pandas as pd\n",
    "import cloudscraper\n",
    "\n",
    "url = 'https://www.slickcharts.com/sp500'\n",
    "scraper = cloudscraper.create_scraper(browser = 'chrome') # you can try 'firefox' here too?\n",
    "page = scraper.get(url).text  # get the raw html text\n",
    "soup = BeautifulSoup(page, 'html.parser') # convert html text to BeautifulSoup object\n",
    "\n",
    "table1 = soup.find('table', class_='table-borderless') # get the first table\n",
    "table1_head = table1.find_all('th') # isolate the head since this has the column headers we want\n",
    "table1_body = table1.find('tbody') # isolate table body since this has the data aka \"guts\"\n",
    "\n",
    "# Get headers of table (i.e., #, Company, Symbol, etc)\n",
    "headers = []\n",
    "for i in table1_head:\n",
    "    # extract just the value using .string (i.e., Company, Symbol, etc) and clean it up\n",
    "    headers.append(i.string.text.strip())\n",
    "\n",
    "# Get the \"guts\" aka all data \n",
    "all_data = []  # set up a list where we'll store our final data\n",
    "rows = table1_body.find_all('tr') # get all the rows first, in each row there will be data\n",
    "for row in rows:  # loop through each row\n",
    "    cols = row.find_all('td') # in the given row, find the data we'll need\n",
    "    cols = [ele.text.strip() for ele in cols] # extract the data for the given row and clean it up\n",
    "    all_data.append([ele for ele in cols]) # add the current data to our python list called \"all_data\"\n",
    "\n",
    "# Print everything out\n",
    "print(headers)\n",
    "for item in all_data[:10]: # [:10] means go through the first 10 items in the list, can change to 20, etc\n",
    "    print(item)"
   ]
  },
  {
   "cell_type": "code",
   "execution_count": null,
   "id": "6a33ea0d",
   "metadata": {},
   "outputs": [],
   "source": []
  }
 ],
 "metadata": {
  "kernelspec": {
   "display_name": "Python 3 (ipykernel)",
   "language": "python",
   "name": "python3"
  },
  "language_info": {
   "codemirror_mode": {
    "name": "ipython",
    "version": 3
   },
   "file_extension": ".py",
   "mimetype": "text/x-python",
   "name": "python",
   "nbconvert_exporter": "python",
   "pygments_lexer": "ipython3",
   "version": "3.9.13"
  }
 },
 "nbformat": 4,
 "nbformat_minor": 5
}
